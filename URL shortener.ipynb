{
 "cells": [
  {
   "cell_type": "code",
   "execution_count": 3,
   "id": "152b3700-da3e-4892-a8f7-f357eada794d",
   "metadata": {},
   "outputs": [
    {
     "name": "stdin",
     "output_type": "stream",
     "text": [
      "Enter the url: https://www.amazon.in/?&ext_vrnc=hi&tag=googhydrabk1-21&ref=pd_sl_7hz2t19t5c_e&adgrpid=58355126069&hvpone=&hvptwo=&hvadid=610644601173&hvpos=&hvnetw=g&hvrand=782817212059787712&hvqmt=e&hvdev=c&hvdvcmdl=&hvlocint=&hvlocphy=9062104&hvtargid=kwd-10573980&hydadcr=14453_2316415\n"
     ]
    },
    {
     "name": "stdout",
     "output_type": "stream",
     "text": [
      "https://tinyurl.com/278vaw7r\n"
     ]
    }
   ],
   "source": [
    "import pyshorteners\n",
    "\n",
    "url=input('Enter the url:')\n",
    "\n",
    "def shortenurl(url):\n",
    "    a=pyshorteners.Shortener()\n",
    "    print(a.tinyurl.short(url))\n",
    "\n",
    "shortenurl(url)"
   ]
  },
  {
   "cell_type": "code",
   "execution_count": null,
   "id": "0ff5c352-8d02-48d8-9782-f8610479ced1",
   "metadata": {},
   "outputs": [],
   "source": []
  }
 ],
 "metadata": {
  "kernelspec": {
   "display_name": "Python 3 (ipykernel)",
   "language": "python",
   "name": "python3"
  },
  "language_info": {
   "codemirror_mode": {
    "name": "ipython",
    "version": 3
   },
   "file_extension": ".py",
   "mimetype": "text/x-python",
   "name": "python",
   "nbconvert_exporter": "python",
   "pygments_lexer": "ipython3",
   "version": "3.11.4"
  }
 },
 "nbformat": 4,
 "nbformat_minor": 5
}
